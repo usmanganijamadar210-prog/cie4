{
  "nbformat": 4,
  "nbformat_minor": 0,
  "metadata": {
    "colab": {
      "provenance": [],
      "include_colab_link": true
    },
    "kernelspec": {
      "name": "python3",
      "display_name": "Python 3"
    },
    "language_info": {
      "name": "python"
    }
  },
  "cells": [
    {
      "cell_type": "markdown",
      "metadata": {
        "id": "view-in-github",
        "colab_type": "text"
      },
      "source": [
        "<a href=\"https://colab.research.google.com/github/usmanganijamadar210-prog/cie4/blob/main/Untitled2.ipynb\" target=\"_parent\"><img src=\"https://colab.research.google.com/assets/colab-badge.svg\" alt=\"Open In Colab\"/></a>"
      ]
    },
    {
      "cell_type": "code",
      "execution_count": 4,
      "metadata": {
        "colab": {
          "base_uri": "https://localhost:8080/"
        },
        "id": "L52tqqd64_HR",
        "outputId": "7b099db6-70d3-4d1f-9a4d-a867145946fd"
      },
      "outputs": [
        {
          "output_type": "stream",
          "name": "stdout",
          "text": [
            "Mean Squared Error: 0.1942332865366857\n"
          ]
        }
      ],
      "source": [
        "import pandas as pd\n",
        "from sklearn.model_selection import train_test_split\n",
        "from sklearn.metrics import mean_squared_error\n",
        "\n",
        "from sklearn.ensemble import RandomForestRegressor\n",
        "import xgboost as xgb\n",
        "from sklearn.linear_model import LinearRegression\n",
        "df = pd.read_csv(\"/content/train (2).csv\")\n",
        "df = df.dropna()\n",
        "df = df.select_dtypes(include=['number'])\n",
        "target = df[\"Survived\"]\n",
        "train = df.drop(\"Survived\", axis=1)\n",
        "X_train, X_test, y_train, y_test = train_test_split(train, target, test_size=0.20, random_state=42)\n",
        "model_1 = LinearRegression()\n",
        "model_2 = xgb.XGBRegressor(objective='reg:squarederror', eval_metric='rmse')\n",
        "model_3 = RandomForestRegressor()\n",
        "model_1.fit(X_train, y_train)\n",
        "model_2.fit(X_train, y_train)\n",
        "model_3.fit(X_train, y_train)\n",
        "pred_1 = model_1.predict(X_test)\n",
        "pred_2 = model_2.predict(X_test)\n",
        "pred_3 = model_3.predict(X_test)\n",
        "pred_final = (pred_1 + pred_2 + pred_3) / 3.0\n",
        "print(\"Mean Squared Error:\", mean_squared_error(y_test, pred_final))"
      ]
    }
  ]
}